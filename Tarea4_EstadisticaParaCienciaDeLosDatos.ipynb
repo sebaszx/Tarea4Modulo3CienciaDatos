{
  "nbformat": 4,
  "nbformat_minor": 0,
  "metadata": {
    "colab": {
      "name": "Tarea4_EstadisticaParaCienciaDeLosDatos.ipynb",
      "provenance": [],
      "collapsed_sections": [],
      "include_colab_link": true
    },
    "kernelspec": {
      "name": "python3",
      "display_name": "Python 3"
    }
  },
  "cells": [
    {
      "cell_type": "markdown",
      "metadata": {
        "id": "view-in-github",
        "colab_type": "text"
      },
      "source": [
        "<a href=\"https://colab.research.google.com/github/sebaszx/Tarea4Modulo3CienciaDatos/blob/main/Tarea4_EstadisticaParaCienciaDeLosDatos.ipynb\" target=\"_parent\"><img src=\"https://colab.research.google.com/assets/colab-badge.svg\" alt=\"Open In Colab\"/></a>"
      ]
    },
    {
      "cell_type": "markdown",
      "source": [
        "\n",
        "\n",
        "## Detalles sobre la entrega\n",
        "\n",
        "Como ha sido costumbre, se espera que los estudiantes entreguen un notebook de colab con tanto nivel de detalle como sea posible. La calificación de cada apartado depende que los estudiantes hayan logrado demostrar con claridad y detalle lo planteado en cada punto. Para la parte 1 debe implementar cada uno de los pasos del ANOVA vistos en clase o bien desarrollarlo matemáticamente y poner los resultados de cada cálculo. No se aceptará como solución llamados a funciones de bibliotecas que realicen el ANOVA. \n",
        "\n",
        "Los estudiantes deberán realizar la entrega a través de TEC Digital a más tardar el día 31 de julio a las 10:00 PM."
      ],
      "metadata": {
        "id": "3TIkHsSIdqkf"
      }
    },
    {
      "cell_type": "markdown",
      "source": [
        "Estudiante: Sebastián Porras"
      ],
      "metadata": {
        "id": "o27uF_iP6aUN"
      }
    },
    {
      "cell_type": "markdown",
      "metadata": {
        "id": "jdtaAwa8XzNA"
      },
      "source": [
        "# Estadística para Ciencia de los Datos\n",
        "# Tarea #4\n",
        "\n",
        "## Parte 1\n",
        "\n",
        "Cuatro plantas químicas, que producen los mismos productos y son propiedad de la misma compañía, \n",
        "descargan aguas residuales en arroyos en la cercanía donde se encuentran ubicadas. Para vigilar la magnitud de la contaminación creada por las aguas residuales y para determinar si esto difiere de una planta a otra, la compañía recolectó aleatoriamente  cinco muestras (observaciones) de desechos líquidos de cada planta. Cada observación tomada indica la cantidad de libras por galón de desechos. Los datos se presentan en la siguiente tabla:\n",
        "\n",
        "|Planta | Ob. 1 | Ob. 2   | Ob. 3   | Ob. 4   |  Ob. 5 |\n",
        "|--- | --- |    |    |    |  |\n",
        "|**A**|1.65|1.72|1.50|1.37|1.60|\n",
        "|**B**|1.70|1.85|1.46|1.46|1.80|\n",
        "|**C**|1.40|1.75|1.38|1.38|1.55|\n",
        "|**D**|2.10|1.95|1.65|1.65|1.88|\n",
        "\n",
        "¿La información aporta suficiente evidencia para indicar una diferencia en el peso medio de las aguas residuales por galón descargadas de las cuatro plantas? Pruebe usando $\\alpha =0.05$ (70 puntos)\n",
        "\n",
        "\n",
        "\n"
      ]
    },
    {
      "cell_type": "code",
      "source": [
        "import numpy as np"
      ],
      "metadata": {
        "id": "0l167liAnOXt"
      },
      "execution_count": null,
      "outputs": []
    },
    {
      "cell_type": "code",
      "source": [
        "datos=[[1.65,1.72,1.50,1.37,1.60],\n",
        "       [1.70,1.85,1.46,1.46,1.80],\n",
        "       [1.40,1.75,1.38,1.38,1.55],\n",
        "       [2.10,1.95,1.65,1.65,1.88]]"
      ],
      "metadata": {
        "id": "Chc9Yb6Dk39n"
      },
      "execution_count": null,
      "outputs": []
    },
    {
      "cell_type": "code",
      "source": [
        "def y_i(data):\n",
        "  #corresponde a la **sumatoria de las observaciones para el tratamiento** $i$.\n",
        "  Sum_por_Observacion=[]\n",
        "  for i in data:\n",
        "    Sum_por_Observacion.append(np.sum(i))\n",
        "  return Sum_por_Observacion\n",
        "    \n",
        "\n",
        "def y_mu_i(data):\n",
        "  #corresponde a la **media de las observaciones para el tratamiento** $i$.\n",
        "  Promedio_por_Observacion=[]\n",
        "  for i in data:\n",
        "    Promedio_por_Observacion.append(np.mean(i))\n",
        "  return Promedio_por_Observacion\n",
        "\n",
        "def y_granTotal(data):\n",
        "  #corresponde al **gran total** y representa el total de todas las observaciones para todos los tratamientos.\n",
        "  Sum_total=0\n",
        "  for i in data:\n",
        "    Sum_total+=np.sum(i)\n",
        "  return Sum_total\n",
        "def y_granPromedio(data):\n",
        "  #corresponde al **gran promedio** y representa el promedio de todas las observaciones para todos los tratamientos. Con $N=a n$.\n",
        "  granPromedio=y_granTotal(data)/(len(data)*len(data[0]))\n",
        "  return granPromedio\n",
        "def t_i(datos):\n",
        "  #se trata de un parámetro asociado al tratamiento *i-ésimo* y se conoce como **efecto del tratamiento $i$**. Se interpreta como la desviación de $\\mu$ cuando se aplica el tratamiento $i$.\n",
        "  return np.std(datos,ddof=1,axis=1)# no se si dejar el ddof=1 y no se si se calcula asi\n",
        "\n",
        "sum_obs=y_i(datos)\n",
        "mu_obs=y_mu_i(datos)\n",
        "sum_total=y_granTotal(datos)\n",
        "mu_total=y_granPromedio(datos)\n",
        "tau_i=t_i(datos)\n",
        "\n",
        "\n",
        "print(sum_obs)\n",
        "print(mu_obs)\n",
        "print(sum_total)\n",
        "print(mu_total)\n",
        "print(tau_i)\n"
      ],
      "metadata": {
        "colab": {
          "base_uri": "https://localhost:8080/"
        },
        "id": "phnCZMTJmOo4",
        "outputId": "53f8962c-a61c-4dca-8efe-e7a262571c17"
      },
      "execution_count": null,
      "outputs": [
        {
          "output_type": "stream",
          "name": "stdout",
          "text": [
            "[7.84, 8.27, 7.459999999999999, 9.23]\n",
            "[1.568, 1.654, 1.4919999999999998, 1.846]\n",
            "32.8\n",
            "1.64\n",
            "[0.13663821 0.18514859 0.16084154 0.19578049]\n"
          ]
        }
      ]
    },
    {
      "cell_type": "code",
      "source": [
        "def SS_error(data,mu_observacion):\n",
        "\n",
        "  ss_error=0\n",
        "  for i in range(len(data)):\n",
        "    for j in range(len(datos[i])):\n",
        "      ss_error+=(data[i][j]-mu_observacion[i])**2\n",
        "  return ss_error\n",
        "\n",
        "\n",
        "\n",
        "def SS_tratamiento(mu_obs,mu_total,data):\n",
        "  ss_tratamiento=0\n",
        "  for i in mu_obs:\n",
        "    ss_tratamiento+=(i-mu_total)**2\n",
        "\n",
        "  return len(data[0])*ss_tratamiento # no sé si es len(mu_obs)\n",
        "\n",
        "def SS_t(data,mu_obs,mu_total):\n",
        "  return SS_error(data,mu_obs)+SS_tratamiento(mu_obs,mu_total,data)\n",
        "\n",
        "SST=SS_t(datos,mu_obs,mu_total)\n",
        "print(f'SST: {SST}')\n",
        "print(f'SS_error: {SS_error(datos,mu_obs)}')\n",
        "print(f'SS_tratamiento: {SS_tratamiento(mu_obs,mu_total,datos)}')"
      ],
      "metadata": {
        "colab": {
          "base_uri": "https://localhost:8080/"
        },
        "id": "tjejqXezdvEb",
        "outputId": "4a94c440-810f-455d-9921-1814ebff273a"
      },
      "execution_count": null,
      "outputs": [
        {
          "output_type": "stream",
          "name": "stdout",
          "text": [
            "SST: 0.8172000000000007\n",
            "SS_error: 0.46860000000000024\n",
            "SS_tratamiento: 0.34860000000000047\n"
          ]
        }
      ]
    },
    {
      "cell_type": "code",
      "source": [
        "def MS_tratamiento(SS_trat,a):\n",
        "  return SS_trat/(a-1)\n",
        "\n",
        "Ms_tratamiento=MS_tratamiento(SS_tratamiento(mu_obs,mu_total,datos),len(mu_obs))\n",
        "print(f'Ms_tratamiento: {Ms_tratamiento}')"
      ],
      "metadata": {
        "colab": {
          "base_uri": "https://localhost:8080/"
        },
        "id": "p3oGV2rtsxfw",
        "outputId": "de66d769-857e-4f15-e4be-007605730025"
      },
      "execution_count": null,
      "outputs": [
        {
          "output_type": "stream",
          "name": "stdout",
          "text": [
            "Ms_tratamiento: 0.11620000000000015\n"
          ]
        }
      ]
    },
    {
      "cell_type": "code",
      "source": [
        "def MS_Error(ss_error,a,n):\n",
        " \n",
        "  return ss_error/(a*(n-1))\n",
        "Ms_error=MS_Error(SS_error(datos,mu_obs),len(mu_obs),len(datos[0]))\n",
        "print(f'MS_Error: {Ms_error}')\n"
      ],
      "metadata": {
        "colab": {
          "base_uri": "https://localhost:8080/"
        },
        "id": "eXlF2XT7GVud",
        "outputId": "f0aa680f-edbf-408d-d2a6-0d946e964ae2"
      },
      "execution_count": null,
      "outputs": [
        {
          "output_type": "stream",
          "name": "stdout",
          "text": [
            "MS_Error: 0.029287500000000015\n"
          ]
        }
      ]
    },
    {
      "cell_type": "code",
      "source": [
        "from scipy.stats import f,norm\n",
        "def EvaluacionHipotesis(tratamiento,error):\n",
        "  f0=tratamiento/error\n",
        "  print(f0,f.ppf(0.95,3,16))\n",
        "  if f0>f.ppf(0.05,3,16):\n",
        "    return 'Rechazada'\n",
        "  else:\n",
        "    return 'Aceptada'\n",
        "Hipotesis=EvaluacionHipotesis(Ms_tratamiento,Ms_error)\n",
        "\n",
        "print(f'Hipotesis: {Hipotesis}')"
      ],
      "metadata": {
        "colab": {
          "base_uri": "https://localhost:8080/"
        },
        "id": "d-NL4YvFHIlr",
        "outputId": "6c3ffe92-d620-456a-c1f0-f938adec55b3"
      },
      "execution_count": null,
      "outputs": [
        {
          "output_type": "stream",
          "name": "stdout",
          "text": [
            "3.9675629534784496 3.238871517453585\n",
            "Hipotesis: Rechazada\n"
          ]
        }
      ]
    },
    {
      "cell_type": "markdown",
      "source": [
        "## Parte 2\n",
        "\n",
        "Un problema recurrente en ciencia de los datos es qué hacer con datos faltantes (*missing values*). Al proceso a través del cuál solucionamos este problema se le llama *imputación de datos* o tratamiento de valores inválidos.\n",
        "\n",
        "- Investigue al menos tres estrategias de imputación de datos. Describa en que consiste cada una y en que casos conviene usar cada una. (30 puntos)"
      ],
      "metadata": {
        "id": "PqNHHPNOqL5d"
      }
    },
    {
      "cell_type": "markdown",
      "source": [
        "Podemos encontrar distintos métodos para la imputación de datos, pero estos se pueden dividir en 3 grandes categorias cuando los datos:\n",
        "\n",
        "\n",
        "1.   Faltan completamente al azar\n",
        "2.   Faltan al azar \n",
        "3.   No faltan al azar \n",
        "\n",
        "A continuación veremos 3 tipos de imputación de datos\n",
        "\n",
        "\n",
        "\n",
        "*   Imputación utilizando valores (media/mediana)\n",
        "\n",
        "Consiste en calcular la media/mediana de los valores que no faltan en una columna y luego reemplaza los valores que faltan dentro de cada columna por separado e independientemente de los demás.\n",
        "\n",
        "Se utiliza cuando los datos están sesgados. Hay que tener en cuenta que la imputación de datos faltantes con el valor de la mediana solo se puede realizar con datos numéricos.\n",
        "*   Imputación de categoría frecuente\n",
        "\n",
        "Esta técnica dice que se debe reemplazar el valor que falta con la variable con la frecuencia más alta o, en palabras simples, reemplace los valores con la moda de esa columna. Esta técnica también se conoce como Imputación de modo.\n",
        "\n",
        "Se suele utilizar cuando faltan datos al azar o\n",
        "los datos que faltan no son más del 5% - 6% del conjunto de datos.\n",
        "\n",
        "* Imputación utilizando valores (cero/constantes)\n",
        "\n",
        "Consiste en reemplazar los valores faltantes con cero o cualquier valor constante que especifique\n",
        "\n",
        "Se suele utilizar cuando los datos no faltan al azar y es\n",
        "apto para todas las variables.\n",
        "\n",
        "\n",
        "\n",
        "\n",
        "\n"
      ],
      "metadata": {
        "id": "Zb5gIOy7qPfQ"
      }
    },
    {
      "cell_type": "code",
      "source": [
        "# #Información tomada de \n",
        "# https://towardsdatascience.com/6-different-ways-to-compensate-for-missing-values-data-imputation-with-examples-6022d9ca0779\n",
        "# https://www.analyticsvidhya.com/blog/2021/06/defining-analysing-and-implementing-imputation-techniques/\n",
        "# https://vitalflux.com/pandas-impute-missing-values-mean-median-mode/#:~:text=Impute%20%2F%20Replace%20Missing%20Values%20with%20Median,-Another%20technique%20is&text=When%20the%20data%20is%20skewed,be%20done%20with%20numerical%20data."
      ],
      "metadata": {
        "id": "rZ1AoBxUnARM"
      },
      "execution_count": null,
      "outputs": []
    }
  ]
}